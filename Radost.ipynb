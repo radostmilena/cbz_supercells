{
 "cells": [
  {
   "cell_type": "markdown",
   "metadata": {},
   "source": [
    "### This notebook creates a supercell from a unit cell described by a cif-file\n",
    "\n",
    "Note 1: The supercell atoms will not have unique names unless the connectivity function is run. The ones here are exclusively for carbamazepine (CBZ) and phenylbutazone (PBZ), but other custom naming functions can be added. \n",
    "\n",
    "Note 2: The connectivity function uses a distance matrix to search for neighboring atoms. This usually works for systems up to 8000 atoms on my PC (62.7 GiB), larger systems require larger memory.\n",
    "\n",
    "Note 3: The default name for residues is CBZ as of now."
   ]
  },
  {
   "cell_type": "code",
   "execution_count": 18,
   "metadata": {},
   "outputs": [],
   "source": [
    "#import numpy\n",
    "import numpy as np\n",
    "from numpy.linalg import norm\n",
    "import re\n",
    "\n",
    "#import atomic simulation environment\n",
    "import ase\n",
    "from ase.io import read, write, cif\n",
    "from ase.atoms import Atoms\n",
    "\n",
    "#modified pdb writer\n",
    "from read_pdb import write_proteindatabank\n",
    "\n",
    "#custom functions\n",
    "#from dihydrate_functions import get_nr_of_atoms, get_connectivity_list, create_arrays \n",
    "from cbz_functions import get_nr_of_atoms, get_connectivity_list, create_arrays"
   ]
  },
  {
   "cell_type": "code",
   "execution_count": 19,
   "metadata": {},
   "outputs": [
    {
     "name": "stdout",
     "output_type": "stream",
     "text": [
      "C15H12N2O 30\n",
      "[7.537 0.    0.   ] [ 0.    11.156  0.   ] [-0.69414884  0.         13.89467169]\n"
     ]
    },
    {
     "name": "stderr",
     "output_type": "stream",
     "text": [
      "/home/rahe7796/.local/lib/python3.8/site-packages/ase/io/cif.py:401: UserWarning: crystal system 'monoclinic' is not interpreted for space group Spacegroup(14, setting=1). This may result in wrong setting!\n",
      "  warnings.warn(\n"
     ]
    }
   ],
   "source": [
    "#read crystal structure from cif file\n",
    "\n",
    "structure = read('form3.cif')\n",
    "\n",
    "pos = structure.get_positions() #positions from cif file\n",
    "\n",
    "sym = structure.get_chemical_symbols() #element symbols from cif file\n",
    "\n",
    "#unit cell vectors\n",
    "a = structure.cell[0]\n",
    "b = structure.cell[1]\n",
    "c = structure.cell[2]\n",
    "\n",
    "chemform, atnr = get_nr_of_atoms(structure)\n",
    "print(chemform, atnr) #check manually if this displays the correct number of atoms!\n",
    "print(a, b, c)"
   ]
  },
  {
   "cell_type": "code",
   "execution_count": 22,
   "metadata": {},
   "outputs": [
    {
     "name": "stdout",
     "output_type": "stream",
     "text": [
      "6480\n",
      "[45.222 33.468 41.736 90.    92.86  90.   ]\n"
     ]
    }
   ],
   "source": [
    "# repeat unit cell\n",
    "\n",
    "[na, nb, nc] = [6, 3, 3]\n",
    "var = structure.repeat(rep=([na, nb, nc]))\n",
    "varpos = var.get_positions()\n",
    "symbol = var.get_chemical_symbols()\n",
    "print(len(varpos))\n",
    "\n",
    "#new unit cell vectors\n",
    "array = var.get_cell_lengths_and_angles()\n",
    "\n",
    "print(array)"
   ]
  },
  {
   "cell_type": "code",
   "execution_count": 10,
   "metadata": {},
   "outputs": [
    {
     "name": "stdout",
     "output_type": "stream",
     "text": [
      "6480\n"
     ]
    }
   ],
   "source": [
    "#get distance matrix\n",
    "\n",
    "dist = var.get_all_distances(mic=True)\n",
    "print(len(dist))"
   ]
  },
  {
   "cell_type": "code",
   "execution_count": 11,
   "metadata": {},
   "outputs": [
    {
     "name": "stdout",
     "output_type": "stream",
     "text": [
      "6480 6480 6480\n"
     ]
    }
   ],
   "source": [
    "print(len(var), len(varpos), len(symbol))"
   ]
  },
  {
   "cell_type": "code",
   "execution_count": 13,
   "metadata": {
    "scrolled": false
   },
   "outputs": [],
   "source": [
    "#get atoms in correct order in residue, rearrange atom names and positions \n",
    "#if using dihydrate function get_connectivity returns three parameters, new_index, atom_names and h2o_counter\n",
    "#and create_arrays needs six parameters passed to it, new_index, varpos, symbl, atnr, atom_names and h2o_counter\n",
    "\n",
    "new_index, atom_names = get_connectivity_list(dist, var, varpos, symbol, atnr)\n",
    "        \n",
    "new_pos, symb, resnrs, atns = create_arrays(new_index, varpos, symbol, atnr, atom_names)"
   ]
  },
  {
   "cell_type": "code",
   "execution_count": 14,
   "metadata": {},
   "outputs": [],
   "source": [
    "#create Atoms object and set new chemical symbols\n",
    "\n",
    "atms = Atoms('O{}'.format(str(len(new_pos))),positions=new_pos)\n",
    "\n",
    "atms.set_chemical_symbols(symb)"
   ]
  },
  {
   "cell_type": "code",
   "execution_count": 15,
   "metadata": {},
   "outputs": [
    {
     "name": "stdout",
     "output_type": "stream",
     "text": [
      "6480\n"
     ]
    }
   ],
   "source": [
    "print(len(atms.get_positions())) #just to check the output"
   ]
  },
  {
   "cell_type": "code",
   "execution_count": 16,
   "metadata": {},
   "outputs": [],
   "source": [
    "#write supercell to PDB files\n",
    "\n",
    "write_proteindatabank('supercell.pdb', atms, atns, resnrs, write_arrays=True)"
   ]
  },
  {
   "cell_type": "code",
   "execution_count": 17,
   "metadata": {},
   "outputs": [],
   "source": [
    "#fix periodic boundary conditions in PDB file for supercell\n",
    "\n",
    "x = '%.3f' % (na*norm(a)) #box x dimension\n",
    "y = '%.3f' % (nb*norm(b)) #box y dimension\n",
    "z = '%.3f' % (nc*norm(c)) #box z dimension\n",
    "\n",
    "alpha = '%.2f' % ( np.rad2deg(np.arccos(np.dot(b,c)/(norm(b)*norm(c)))) ) #angle between b and c vector\n",
    "beta = '%.2f' % ( np.rad2deg(np.arccos(np.dot(a,c)/(norm(a)*norm(c)))) ) #angle between a and c vector\n",
    "gamma = '%.2f' % ( np.rad2deg(np.arccos(np.dot(a,b)/(norm(a)*norm(b)))) ) #angle between a and b vector\n",
    "\n",
    "with open('supercell.pdb', 'r') as original: data = original.read()\n",
    "with open('supercell.pdb', 'w') as modified: modified.write(\"CRYST1   {}   {}   {}  {}  {} {} P 1\\n\".format\n",
    "                                                            (x,y,z,alpha,beta,gamma) + data)"
   ]
  }
 ],
 "metadata": {
  "kernelspec": {
   "display_name": "Python 3",
   "language": "python",
   "name": "python3"
  },
  "language_info": {
   "codemirror_mode": {
    "name": "ipython",
    "version": 3
   },
   "file_extension": ".py",
   "mimetype": "text/x-python",
   "name": "python",
   "nbconvert_exporter": "python",
   "pygments_lexer": "ipython3",
   "version": "3.8.10"
  }
 },
 "nbformat": 4,
 "nbformat_minor": 2
}
