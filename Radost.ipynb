{
 "cells": [
  {
   "cell_type": "markdown",
   "metadata": {},
   "source": [
    "### This notebook creates a supercell from a unit cell described by a cif-file\n",
    "\n",
    "In this example the input is a cif-file containing the structure of hexagonal ice. A supercell is constructed by replicating the unit cell three times along each unit cell vector. The unit cell and supercell are then written to PDB files (unitcell.pdb and supercell.pdb)."
   ]
  },
  {
   "cell_type": "code",
   "execution_count": 1,
   "metadata": {},
   "outputs": [],
   "source": [
    "#import numpy\n",
    "import numpy as np\n",
    "from numpy.linalg import norm\n",
    "import re\n",
    "\n",
    "#import atomic simulation environment\n",
    "import ase\n",
    "from ase.io import read, write, cif\n",
    "from ase.atoms import Atoms\n",
    "\n",
    "#modified pdb writer\n",
    "from read_pdb import write_proteindatabank\n",
    "\n",
    "#custom functions\n",
    "from cbz_functions import get_nr_of_atoms, get_connectivity_list "
   ]
  },
  {
   "cell_type": "code",
   "execution_count": 2,
   "metadata": {},
   "outputs": [
    {
     "name": "stdout",
     "output_type": "stream",
     "text": [
      "C15H12N2O 30\n"
     ]
    },
    {
     "name": "stderr",
     "output_type": "stream",
     "text": [
      "/home/rahe7796/.local/lib/python3.8/site-packages/ase/io/cif.py:402: UserWarning: crystal system 'Triclinic' is not interpreted for space group Spacegroup(2, setting=1). This may result in wrong setting!\n",
      "  warnings.warn(\n"
     ]
    }
   ],
   "source": [
    "#read crystal structure from cif file\n",
    "structure = read('form1.cif')\n",
    "\n",
    "pos = structure.get_positions() #positions from cif file\n",
    "\n",
    "sym = structure.get_chemical_symbols() #element symbols from cif file\n",
    "\n",
    "#unit cell vectors\n",
    "a = structure.cell[0]\n",
    "b = structure.cell[1]\n",
    "c = structure.cell[2]\n",
    "\n",
    "chemform, atnr = get_nr_of_atoms(structure)\n",
    "print(chemform, atnr)"
   ]
  },
  {
   "cell_type": "code",
   "execution_count": 3,
   "metadata": {},
   "outputs": [
    {
     "name": "stdout",
     "output_type": "stream",
     "text": [
      "5760\n"
     ]
    }
   ],
   "source": [
    "#repeat unit cell\n",
    "[na, nb, nc] = [6, 2, 2]\n",
    "var = structure.repeat(rep=([na, nb, nc]))\n",
    "varpos = var.get_positions()\n",
    "symbol = var.get_chemical_symbols()\n",
    "print(len(varpos))"
   ]
  },
  {
   "cell_type": "code",
   "execution_count": 4,
   "metadata": {},
   "outputs": [
    {
     "name": "stdout",
     "output_type": "stream",
     "text": [
      "5760\n"
     ]
    }
   ],
   "source": [
    "#get distance matrix\n",
    "dist = var.get_all_distances(mic=True)\n",
    "print(len(dist))"
   ]
  },
  {
   "cell_type": "code",
   "execution_count": 5,
   "metadata": {},
   "outputs": [],
   "source": [
    "#print new coordinates\n",
    "\n",
    "new_index, atom_names = get_connectivity_list(dist, var, varpos, symbol, atnr)\n",
    "\n",
    "new_pos = []\n",
    "symb = []\n",
    "atns = []\n",
    "resnrs = []\n",
    "\n",
    "for i in range(len(new_index)):\n",
    "    for j in range(atnr):\n",
    "        resnrs.append(i+1)\n",
    "        atns.append(atom_names[j])\n",
    "        new_pos.append(varpos[new_index[i][j]]) \n",
    "        symb.append(symbol[new_index[i][j]])\n",
    "        \n",
    "atms = Atoms('O{}'.format(str(len(new_pos))),positions=new_pos) #create atoms object\n",
    "\n",
    "atms.set_chemical_symbols(symb) #set new chemical symbols"
   ]
  },
  {
   "cell_type": "code",
   "execution_count": 6,
   "metadata": {},
   "outputs": [
    {
     "name": "stdout",
     "output_type": "stream",
     "text": [
      "5760\n"
     ]
    }
   ],
   "source": [
    "print(len(atms.get_positions()))"
   ]
  },
  {
   "cell_type": "code",
   "execution_count": 7,
   "metadata": {},
   "outputs": [],
   "source": [
    "#write unit cell and super cell to PDB files\n",
    "write_proteindatabank('supercell.pdb', atms, atns, resnrs, write_arrays=True)"
   ]
  },
  {
   "cell_type": "code",
   "execution_count": 8,
   "metadata": {},
   "outputs": [],
   "source": [
    "#fix periodic boundary conditions in PDB file for supercell\n",
    "\n",
    "x = '%.3f' % (na*norm(a)) #box x dimension\n",
    "y = '%.3f' % (nb*norm(b)) #box y dimension\n",
    "z = '%.3f' % (nc*norm(c)) #box z dimension\n",
    "\n",
    "alpha = '%.2f' % ( np.rad2deg(np.arccos(np.dot(b,c)/(norm(b)*norm(c)))) ) #angle between b and c vector\n",
    "beta = '%.2f' % ( np.rad2deg(np.arccos(np.dot(a,c)/(norm(a)*norm(c)))) ) #angle between a and c vector\n",
    "gamma = '%.2f' % ( np.rad2deg(np.arccos(np.dot(a,b)/(norm(a)*norm(b)))) ) #angle between a and b vector\n",
    "\n",
    "with open('supercell.pdb', 'r') as original: data = original.read()\n",
    "with open('supercell.pdb', 'w') as modified: modified.write(\"CRYST1   {}   {}   {}  {}  {} {} P 1\\n\".format(x,y,z,alpha,beta,gamma) + data)"
   ]
  }
 ],
 "metadata": {
  "kernelspec": {
   "display_name": "Python 3",
   "language": "python",
   "name": "python3"
  },
  "language_info": {
   "codemirror_mode": {
    "name": "ipython",
    "version": 3
   },
   "file_extension": ".py",
   "mimetype": "text/x-python",
   "name": "python",
   "nbconvert_exporter": "python",
   "pygments_lexer": "ipython3",
   "version": "3.8.5"
  }
 },
 "nbformat": 4,
 "nbformat_minor": 2
}
